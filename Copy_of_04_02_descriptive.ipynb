{
  "cells": [
    {
      "cell_type": "markdown",
      "metadata": {
        "id": "view-in-github",
        "colab_type": "text"
      },
      "source": [
        "<a href=\"https://colab.research.google.com/github/lleoys/COGS108_Repo/blob/main/Copy_of_04_02_descriptive.ipynb\" target=\"_parent\"><img src=\"https://colab.research.google.com/assets/colab-badge.svg\" alt=\"Open In Colab\"/></a>"
      ]
    },
    {
      "cell_type": "markdown",
      "metadata": {
        "id": "drmSxAXfrb5o"
      },
      "source": [
        "## Class Announcements\n",
        "\n",
        "**Due Friday**:\n",
        "- D3\n",
        "- Project Proposal (Template in repo, turn in via repo)\n",
        "- Weekly project survey check in (optional, released Wednesdays!) on Canvas\n",
        "\n",
        "**Notes**:\n",
        "- Repo invites: missed yours? Ask on Piazza in private message to instructors!\n"
      ]
    },
    {
      "cell_type": "markdown",
      "metadata": {
        "id": "aetDqAIDrb5s"
      },
      "source": [
        "[![Open In Colab](https://colab.research.google.com/assets/colab-badge.svg)](https://colab.research.google.com/github/COGS108/Lectures-Sp22/blob/master/04_data/04_02_descriptive.ipynb)\n",
        "\n",
        "# Descriptive Analysis\n",
        "\n",
        "- Size\n",
        "- Missingness\n",
        "- Shape\n",
        "- Central Tendency\n",
        "- Variability\n",
        "\n",
        "<div class=\"alert alert-success\">\n",
        "The goal of a <b>descriptive analysis</b> is to understand and summarize information about the variables stored in your dataset.\n",
        "</div>"
      ]
    },
    {
      "cell_type": "markdown",
      "metadata": {
        "id": "piU9g-NVrb5t"
      },
      "source": [
        "### Setup\n",
        "\n",
        "The packages and settings we'll use in this workbook:"
      ]
    },
    {
      "cell_type": "code",
      "execution_count": null,
      "metadata": {
        "id": "K9USdrierb5t"
      },
      "outputs": [],
      "source": [
        "import numpy as np\n",
        "import pandas as pd\n",
        "\n",
        "import matplotlib.pyplot as plt\n",
        "plt.rcParams['figure.figsize'] = (17, 7) #increase figure size\n",
        "\n",
        "import seaborn as sns\n",
        "sns.set(style='white', font_scale=2) #set style\n",
        "\n",
        "import warnings\n",
        "warnings.filterwarnings('ignore')\n",
        "\n",
        "from scipy.stats import uniform, norm, bernoulli, poisson\n",
        "\n",
        "#improve resolution\n",
        "#comment this line if erroring on your machine/screen\n",
        "%config InlineBackend.figure_format ='retina'"
      ]
    },
    {
      "cell_type": "markdown",
      "metadata": {
        "id": "rYpFeMk1rb5u"
      },
      "source": [
        "## The Data\n",
        "\n",
        "To walk through these concepts today, we're going to use your responses from after the Data Intuition Lecture."
      ]
    },
    {
      "cell_type": "code",
      "execution_count": null,
      "metadata": {
        "id": "4MC660i3rb5v"
      },
      "outputs": [],
      "source": [
        "# read data into Python\n",
        "df = pd.read_csv('https://raw.githubusercontent.com/COGS108/Lectures-Sp22/master/04_data/data/fermi_wi22.csv')"
      ]
    },
    {
      "cell_type": "code",
      "execution_count": null,
      "metadata": {
        "scrolled": false,
        "id": "kiUfcwSirb5v",
        "outputId": "92ee10e3-01fd-4a4a-b43e-b64aebefe3ff",
        "colab": {
          "base_uri": "https://localhost:8080/",
          "height": 1000
        }
      },
      "outputs": [
        {
          "output_type": "execute_result",
          "data": {
            "text/plain": [
              "             Timestamp How fast does human hair grow (cm/yr)?  \\\n",
              "0   10/6/2021 10:52:56                                     15   \n",
              "1   10/6/2021 10:54:47                                     50   \n",
              "2   10/6/2021 10:58:30                                     10   \n",
              "3   10/6/2021 11:01:56                               16.06 cm   \n",
              "4   10/6/2021 11:03:36                                     10   \n",
              "5   10/6/2021 11:15:19                                 6cm/yr   \n",
              "6   10/6/2021 11:49:35                                5 cm/yr   \n",
              "7   10/6/2021 11:59:01                                     24   \n",
              "8   10/6/2021 14:42:36                                     10   \n",
              "9   10/6/2021 16:36:49                                     30   \n",
              "10  10/6/2021 17:00:29                                  10cm    \n",
              "11  10/6/2021 18:25:33                                     10   \n",
              "12  10/7/2021 11:20:15                                     10   \n",
              "13  10/8/2021 15:27:23                                     15   \n",
              "14  1/12/2022 20:11:14                                     18   \n",
              "15  1/14/2022 14:36:55                                     12   \n",
              "16  1/14/2022 14:36:55                                      9   \n",
              "17  1/14/2022 14:37:00                                     15   \n",
              "18  1/14/2022 14:37:01                                    100   \n",
              "19  1/14/2022 14:37:10                                10cm/yr   \n",
              "20  1/14/2022 14:37:11                                      5   \n",
              "21  1/14/2022 14:37:15                                    5cm   \n",
              "22  1/14/2022 14:37:15                                     50   \n",
              "23  1/14/2022 14:37:17                                    100   \n",
              "24  1/14/2022 14:37:18                                     20   \n",
              "25  1/14/2022 14:37:18                                     20   \n",
              "26  1/14/2022 14:37:27                                    100   \n",
              "27  1/14/2022 14:37:35                                     60   \n",
              "28  1/14/2022 14:37:36                              1000cm/yr   \n",
              "29  1/14/2022 14:37:38                                     30   \n",
              "30  1/14/2022 14:37:39                                     30   \n",
              "31  1/14/2022 14:37:40                                     36   \n",
              "32  1/14/2022 14:37:43                                10cm/yr   \n",
              "33  1/14/2022 14:37:44                                   40cm   \n",
              "34  1/14/2022 14:37:44                                    100   \n",
              "\n",
              "   If every living person stood crammed together side-by-side, how large of an area would they occupy (km²)?  \\\n",
              "0                                                1750                                                          \n",
              "1                                               30000                                                          \n",
              "2                                              100000                                                          \n",
              "3                                           3219 km^2                                                          \n",
              "4                                            10000000                                                          \n",
              "5                                       10,000,000km2                                                          \n",
              "6                                                 100                                                          \n",
              "7                                             1500000                                                          \n",
              "8                                               10^14                                                          \n",
              "9                                         700,000,000                                                          \n",
              "10                                         16,000,000                                                          \n",
              "11                                             1*10^3                                                          \n",
              "12                                            1000000                                                          \n",
              "13                                                5.7                                                          \n",
              "14                                               5000                                                          \n",
              "15                                             100000                                                          \n",
              "16                                                100                                                          \n",
              "17                                              10000                                                          \n",
              "18                                                400                                                          \n",
              "19                                            100km^2                                                          \n",
              "20                                                100                                                          \n",
              "21                                       10000000km^2                                                          \n",
              "22                                              10000                                                          \n",
              "23                                               1000                                                          \n",
              "24                                                 20                                                          \n",
              "25                                            1000000                                                          \n",
              "26                                               5000                                                          \n",
              "27                                                 15                                                          \n",
              "28                              1,000,000,000,000,000                                                          \n",
              "29                                            3000000                                                          \n",
              "30                                          900000000                                                          \n",
              "31                                          700000000                                                          \n",
              "32                                             uh oh                                                           \n",
              "33                             Maybe as big as the US                                                          \n",
              "34                                              10000                                                          \n",
              "\n",
              "   How many days would it take to walk from San Diego to New York City (assuming no stopping to fix shoes, apply sunscreen, or for sleeping, eating, or other biological needs)?  \n",
              "0                                                 400                                                                                                                             \n",
              "1                                                 100                                                                                                                             \n",
              "2                                                  50                                                                                                                             \n",
              "3                                             29 days                                                                                                                             \n",
              "4                                                 100                                                                                                                             \n",
              "5                                            200 days                                                                                                                             \n",
              "6                                                  50                                                                                                                             \n",
              "7                                                  40                                                                                                                             \n",
              "8                                                  30                                                                                                                             \n",
              "9                                                  21                                                                                                                             \n",
              "10                                           45 days                                                                                                                              \n",
              "11                                                200                                                                                                                             \n",
              "12                                                100                                                                                                                             \n",
              "13                                                 38                                                                                                                             \n",
              "14                                                 62                                                                                                                             \n",
              "15                                                 60                                                                                                                             \n",
              "16                                                 90                                                                                                                             \n",
              "17                                                 35                                                                                                                             \n",
              "18                                             1 year                                                                                                                             \n",
              "19                                           1 month                                                                                                                              \n",
              "20                                                 40                                                                                                                             \n",
              "21                                           2 months                                                                                                                             \n",
              "22                                                500                                                                                                                             \n",
              "23                                                 10                                                                                                                             \n",
              "24                                                 20                                                                                                                             \n",
              "25                                                300                                                                                                                             \n",
              "26                                                150                                                                                                                             \n",
              "27                                                 65                                                                                                                             \n",
              "28                                                120                                                                                                                             \n",
              "29                                           6 months                                                                                                                             \n",
              "30                                                 30                                                                                                                             \n",
              "31                                                 80                                                                                                                             \n",
              "32                                               1200                                                                                                                             \n",
              "33                                      25,000 hours                                                                                                                              \n",
              "34                                                100                                                                                                                             "
            ],
            "text/html": [
              "\n",
              "  <div id=\"df-59e206de-7676-4162-b52a-072586cc341c\">\n",
              "    <div class=\"colab-df-container\">\n",
              "      <div>\n",
              "<style scoped>\n",
              "    .dataframe tbody tr th:only-of-type {\n",
              "        vertical-align: middle;\n",
              "    }\n",
              "\n",
              "    .dataframe tbody tr th {\n",
              "        vertical-align: top;\n",
              "    }\n",
              "\n",
              "    .dataframe thead th {\n",
              "        text-align: right;\n",
              "    }\n",
              "</style>\n",
              "<table border=\"1\" class=\"dataframe\">\n",
              "  <thead>\n",
              "    <tr style=\"text-align: right;\">\n",
              "      <th></th>\n",
              "      <th>Timestamp</th>\n",
              "      <th>How fast does human hair grow (cm/yr)?</th>\n",
              "      <th>If every living person stood crammed together side-by-side, how large of an area would they occupy (km²)?</th>\n",
              "      <th>How many days would it take to walk from San Diego to New York City (assuming no stopping to fix shoes, apply sunscreen, or for sleeping, eating, or other biological needs)?</th>\n",
              "    </tr>\n",
              "  </thead>\n",
              "  <tbody>\n",
              "    <tr>\n",
              "      <th>0</th>\n",
              "      <td>10/6/2021 10:52:56</td>\n",
              "      <td>15</td>\n",
              "      <td>1750</td>\n",
              "      <td>400</td>\n",
              "    </tr>\n",
              "    <tr>\n",
              "      <th>1</th>\n",
              "      <td>10/6/2021 10:54:47</td>\n",
              "      <td>50</td>\n",
              "      <td>30000</td>\n",
              "      <td>100</td>\n",
              "    </tr>\n",
              "    <tr>\n",
              "      <th>2</th>\n",
              "      <td>10/6/2021 10:58:30</td>\n",
              "      <td>10</td>\n",
              "      <td>100000</td>\n",
              "      <td>50</td>\n",
              "    </tr>\n",
              "    <tr>\n",
              "      <th>3</th>\n",
              "      <td>10/6/2021 11:01:56</td>\n",
              "      <td>16.06 cm</td>\n",
              "      <td>3219 km^2</td>\n",
              "      <td>29 days</td>\n",
              "    </tr>\n",
              "    <tr>\n",
              "      <th>4</th>\n",
              "      <td>10/6/2021 11:03:36</td>\n",
              "      <td>10</td>\n",
              "      <td>10000000</td>\n",
              "      <td>100</td>\n",
              "    </tr>\n",
              "    <tr>\n",
              "      <th>5</th>\n",
              "      <td>10/6/2021 11:15:19</td>\n",
              "      <td>6cm/yr</td>\n",
              "      <td>10,000,000km2</td>\n",
              "      <td>200 days</td>\n",
              "    </tr>\n",
              "    <tr>\n",
              "      <th>6</th>\n",
              "      <td>10/6/2021 11:49:35</td>\n",
              "      <td>5 cm/yr</td>\n",
              "      <td>100</td>\n",
              "      <td>50</td>\n",
              "    </tr>\n",
              "    <tr>\n",
              "      <th>7</th>\n",
              "      <td>10/6/2021 11:59:01</td>\n",
              "      <td>24</td>\n",
              "      <td>1500000</td>\n",
              "      <td>40</td>\n",
              "    </tr>\n",
              "    <tr>\n",
              "      <th>8</th>\n",
              "      <td>10/6/2021 14:42:36</td>\n",
              "      <td>10</td>\n",
              "      <td>10^14</td>\n",
              "      <td>30</td>\n",
              "    </tr>\n",
              "    <tr>\n",
              "      <th>9</th>\n",
              "      <td>10/6/2021 16:36:49</td>\n",
              "      <td>30</td>\n",
              "      <td>700,000,000</td>\n",
              "      <td>21</td>\n",
              "    </tr>\n",
              "    <tr>\n",
              "      <th>10</th>\n",
              "      <td>10/6/2021 17:00:29</td>\n",
              "      <td>10cm</td>\n",
              "      <td>16,000,000</td>\n",
              "      <td>45 days</td>\n",
              "    </tr>\n",
              "    <tr>\n",
              "      <th>11</th>\n",
              "      <td>10/6/2021 18:25:33</td>\n",
              "      <td>10</td>\n",
              "      <td>1*10^3</td>\n",
              "      <td>200</td>\n",
              "    </tr>\n",
              "    <tr>\n",
              "      <th>12</th>\n",
              "      <td>10/7/2021 11:20:15</td>\n",
              "      <td>10</td>\n",
              "      <td>1000000</td>\n",
              "      <td>100</td>\n",
              "    </tr>\n",
              "    <tr>\n",
              "      <th>13</th>\n",
              "      <td>10/8/2021 15:27:23</td>\n",
              "      <td>15</td>\n",
              "      <td>5.7</td>\n",
              "      <td>38</td>\n",
              "    </tr>\n",
              "    <tr>\n",
              "      <th>14</th>\n",
              "      <td>1/12/2022 20:11:14</td>\n",
              "      <td>18</td>\n",
              "      <td>5000</td>\n",
              "      <td>62</td>\n",
              "    </tr>\n",
              "    <tr>\n",
              "      <th>15</th>\n",
              "      <td>1/14/2022 14:36:55</td>\n",
              "      <td>12</td>\n",
              "      <td>100000</td>\n",
              "      <td>60</td>\n",
              "    </tr>\n",
              "    <tr>\n",
              "      <th>16</th>\n",
              "      <td>1/14/2022 14:36:55</td>\n",
              "      <td>9</td>\n",
              "      <td>100</td>\n",
              "      <td>90</td>\n",
              "    </tr>\n",
              "    <tr>\n",
              "      <th>17</th>\n",
              "      <td>1/14/2022 14:37:00</td>\n",
              "      <td>15</td>\n",
              "      <td>10000</td>\n",
              "      <td>35</td>\n",
              "    </tr>\n",
              "    <tr>\n",
              "      <th>18</th>\n",
              "      <td>1/14/2022 14:37:01</td>\n",
              "      <td>100</td>\n",
              "      <td>400</td>\n",
              "      <td>1 year</td>\n",
              "    </tr>\n",
              "    <tr>\n",
              "      <th>19</th>\n",
              "      <td>1/14/2022 14:37:10</td>\n",
              "      <td>10cm/yr</td>\n",
              "      <td>100km^2</td>\n",
              "      <td>1 month</td>\n",
              "    </tr>\n",
              "    <tr>\n",
              "      <th>20</th>\n",
              "      <td>1/14/2022 14:37:11</td>\n",
              "      <td>5</td>\n",
              "      <td>100</td>\n",
              "      <td>40</td>\n",
              "    </tr>\n",
              "    <tr>\n",
              "      <th>21</th>\n",
              "      <td>1/14/2022 14:37:15</td>\n",
              "      <td>5cm</td>\n",
              "      <td>10000000km^2</td>\n",
              "      <td>2 months</td>\n",
              "    </tr>\n",
              "    <tr>\n",
              "      <th>22</th>\n",
              "      <td>1/14/2022 14:37:15</td>\n",
              "      <td>50</td>\n",
              "      <td>10000</td>\n",
              "      <td>500</td>\n",
              "    </tr>\n",
              "    <tr>\n",
              "      <th>23</th>\n",
              "      <td>1/14/2022 14:37:17</td>\n",
              "      <td>100</td>\n",
              "      <td>1000</td>\n",
              "      <td>10</td>\n",
              "    </tr>\n",
              "    <tr>\n",
              "      <th>24</th>\n",
              "      <td>1/14/2022 14:37:18</td>\n",
              "      <td>20</td>\n",
              "      <td>20</td>\n",
              "      <td>20</td>\n",
              "    </tr>\n",
              "    <tr>\n",
              "      <th>25</th>\n",
              "      <td>1/14/2022 14:37:18</td>\n",
              "      <td>20</td>\n",
              "      <td>1000000</td>\n",
              "      <td>300</td>\n",
              "    </tr>\n",
              "    <tr>\n",
              "      <th>26</th>\n",
              "      <td>1/14/2022 14:37:27</td>\n",
              "      <td>100</td>\n",
              "      <td>5000</td>\n",
              "      <td>150</td>\n",
              "    </tr>\n",
              "    <tr>\n",
              "      <th>27</th>\n",
              "      <td>1/14/2022 14:37:35</td>\n",
              "      <td>60</td>\n",
              "      <td>15</td>\n",
              "      <td>65</td>\n",
              "    </tr>\n",
              "    <tr>\n",
              "      <th>28</th>\n",
              "      <td>1/14/2022 14:37:36</td>\n",
              "      <td>1000cm/yr</td>\n",
              "      <td>1,000,000,000,000,000</td>\n",
              "      <td>120</td>\n",
              "    </tr>\n",
              "    <tr>\n",
              "      <th>29</th>\n",
              "      <td>1/14/2022 14:37:38</td>\n",
              "      <td>30</td>\n",
              "      <td>3000000</td>\n",
              "      <td>6 months</td>\n",
              "    </tr>\n",
              "    <tr>\n",
              "      <th>30</th>\n",
              "      <td>1/14/2022 14:37:39</td>\n",
              "      <td>30</td>\n",
              "      <td>900000000</td>\n",
              "      <td>30</td>\n",
              "    </tr>\n",
              "    <tr>\n",
              "      <th>31</th>\n",
              "      <td>1/14/2022 14:37:40</td>\n",
              "      <td>36</td>\n",
              "      <td>700000000</td>\n",
              "      <td>80</td>\n",
              "    </tr>\n",
              "    <tr>\n",
              "      <th>32</th>\n",
              "      <td>1/14/2022 14:37:43</td>\n",
              "      <td>10cm/yr</td>\n",
              "      <td>uh oh</td>\n",
              "      <td>1200</td>\n",
              "    </tr>\n",
              "    <tr>\n",
              "      <th>33</th>\n",
              "      <td>1/14/2022 14:37:44</td>\n",
              "      <td>40cm</td>\n",
              "      <td>Maybe as big as the US</td>\n",
              "      <td>25,000 hours</td>\n",
              "    </tr>\n",
              "    <tr>\n",
              "      <th>34</th>\n",
              "      <td>1/14/2022 14:37:44</td>\n",
              "      <td>100</td>\n",
              "      <td>10000</td>\n",
              "      <td>100</td>\n",
              "    </tr>\n",
              "  </tbody>\n",
              "</table>\n",
              "</div>\n",
              "      <button class=\"colab-df-convert\" onclick=\"convertToInteractive('df-59e206de-7676-4162-b52a-072586cc341c')\"\n",
              "              title=\"Convert this dataframe to an interactive table.\"\n",
              "              style=\"display:none;\">\n",
              "        \n",
              "  <svg xmlns=\"http://www.w3.org/2000/svg\" height=\"24px\"viewBox=\"0 0 24 24\"\n",
              "       width=\"24px\">\n",
              "    <path d=\"M0 0h24v24H0V0z\" fill=\"none\"/>\n",
              "    <path d=\"M18.56 5.44l.94 2.06.94-2.06 2.06-.94-2.06-.94-.94-2.06-.94 2.06-2.06.94zm-11 1L8.5 8.5l.94-2.06 2.06-.94-2.06-.94L8.5 2.5l-.94 2.06-2.06.94zm10 10l.94 2.06.94-2.06 2.06-.94-2.06-.94-.94-2.06-.94 2.06-2.06.94z\"/><path d=\"M17.41 7.96l-1.37-1.37c-.4-.4-.92-.59-1.43-.59-.52 0-1.04.2-1.43.59L10.3 9.45l-7.72 7.72c-.78.78-.78 2.05 0 2.83L4 21.41c.39.39.9.59 1.41.59.51 0 1.02-.2 1.41-.59l7.78-7.78 2.81-2.81c.8-.78.8-2.07 0-2.86zM5.41 20L4 18.59l7.72-7.72 1.47 1.35L5.41 20z\"/>\n",
              "  </svg>\n",
              "      </button>\n",
              "      \n",
              "  <style>\n",
              "    .colab-df-container {\n",
              "      display:flex;\n",
              "      flex-wrap:wrap;\n",
              "      gap: 12px;\n",
              "    }\n",
              "\n",
              "    .colab-df-convert {\n",
              "      background-color: #E8F0FE;\n",
              "      border: none;\n",
              "      border-radius: 50%;\n",
              "      cursor: pointer;\n",
              "      display: none;\n",
              "      fill: #1967D2;\n",
              "      height: 32px;\n",
              "      padding: 0 0 0 0;\n",
              "      width: 32px;\n",
              "    }\n",
              "\n",
              "    .colab-df-convert:hover {\n",
              "      background-color: #E2EBFA;\n",
              "      box-shadow: 0px 1px 2px rgba(60, 64, 67, 0.3), 0px 1px 3px 1px rgba(60, 64, 67, 0.15);\n",
              "      fill: #174EA6;\n",
              "    }\n",
              "\n",
              "    [theme=dark] .colab-df-convert {\n",
              "      background-color: #3B4455;\n",
              "      fill: #D2E3FC;\n",
              "    }\n",
              "\n",
              "    [theme=dark] .colab-df-convert:hover {\n",
              "      background-color: #434B5C;\n",
              "      box-shadow: 0px 1px 3px 1px rgba(0, 0, 0, 0.15);\n",
              "      filter: drop-shadow(0px 1px 2px rgba(0, 0, 0, 0.3));\n",
              "      fill: #FFFFFF;\n",
              "    }\n",
              "  </style>\n",
              "\n",
              "      <script>\n",
              "        const buttonEl =\n",
              "          document.querySelector('#df-59e206de-7676-4162-b52a-072586cc341c button.colab-df-convert');\n",
              "        buttonEl.style.display =\n",
              "          google.colab.kernel.accessAllowed ? 'block' : 'none';\n",
              "\n",
              "        async function convertToInteractive(key) {\n",
              "          const element = document.querySelector('#df-59e206de-7676-4162-b52a-072586cc341c');\n",
              "          const dataTable =\n",
              "            await google.colab.kernel.invokeFunction('convertToInteractive',\n",
              "                                                     [key], {});\n",
              "          if (!dataTable) return;\n",
              "\n",
              "          const docLinkHtml = 'Like what you see? Visit the ' +\n",
              "            '<a target=\"_blank\" href=https://colab.research.google.com/notebooks/data_table.ipynb>data table notebook</a>'\n",
              "            + ' to learn more about interactive tables.';\n",
              "          element.innerHTML = '';\n",
              "          dataTable['output_type'] = 'display_data';\n",
              "          await google.colab.output.renderOutput(dataTable, element);\n",
              "          const docLink = document.createElement('div');\n",
              "          docLink.innerHTML = docLinkHtml;\n",
              "          element.appendChild(docLink);\n",
              "        }\n",
              "      </script>\n",
              "    </div>\n",
              "  </div>\n",
              "  "
            ]
          },
          "metadata": {},
          "execution_count": 5
        }
      ],
      "source": [
        "# take a look at the data\n",
        "df[:35]"
      ]
    },
    {
      "cell_type": "markdown",
      "metadata": {
        "id": "ZB8eXxjNrb5w"
      },
      "source": [
        "### Data Cleaning & Wrangling\n",
        "\n",
        "Tidy Data Rules (Review):\n",
        "1. Every observation in a row\n",
        "2. Every variable in a column\n",
        "3. If multiple tables, column on which to merge"
      ]
    },
    {
      "cell_type": "markdown",
      "metadata": {
        "id": "GHqCjn5lrb5w"
      },
      "source": [
        "https://forms.gle/iW1HwXXqrRnvdkAw7\n",
        "\n",
        "<img src=\"https://raw.githubusercontent.com/COGS108/Lectures-Sp22/master/04_data/images/qr-code(15).png\" width=600>\n",
        "\n",
        "#### Clicker Question #1\n",
        "\n",
        "Are these data in the tidy data format?\n",
        "\n",
        "- A) Yes, these data are ready to analyze\n",
        "- B) Yes, but there is more work to do before analysis\n",
        "- C) No, not tidy\n",
        "- D) Have no idea what you're talking about"
      ]
    },
    {
      "cell_type": "markdown",
      "metadata": {
        "id": "xk8gb_iRrb5x"
      },
      "source": [
        "**Brainstorming**\n",
        "\n",
        "What should we do before we use these data?\n",
        "\n",
        "\n",
        "\n",
        "hmm...\n",
        "\n",
        "lets make a list\n"
      ]
    },
    {
      "cell_type": "markdown",
      "metadata": {
        "id": "udTxcGj9rb5x"
      },
      "source": [
        "- ideas from you\n",
        "- more ideas\n"
      ]
    },
    {
      "cell_type": "code",
      "execution_count": null,
      "metadata": {
        "id": "ny2-uIx-rb5y"
      },
      "outputs": [],
      "source": [
        ""
      ]
    },
    {
      "cell_type": "code",
      "execution_count": null,
      "metadata": {
        "id": "6OFjPuCvrb5y"
      },
      "outputs": [],
      "source": [
        ""
      ]
    },
    {
      "cell_type": "code",
      "execution_count": null,
      "metadata": {
        "id": "PM8uzsjzrb5y"
      },
      "outputs": [],
      "source": [
        ""
      ]
    },
    {
      "cell_type": "markdown",
      "metadata": {
        "id": "FeWXh6rarb5z"
      },
      "source": [
        "- shorten column/variable names\n",
        "- standardize responses\n",
        "    - make measurements uniform\n",
        "    - remove units\n",
        "- string to int/float (want to work with #s)\n",
        "- consider missing values"
      ]
    },
    {
      "cell_type": "code",
      "execution_count": null,
      "metadata": {
        "scrolled": false,
        "id": "Rted8yQLrb5z"
      },
      "outputs": [],
      "source": [
        "# change column names\n",
        "df.columns = ['timestamp', 'hair_growth', 'crammed', 'SAN_NYC']\n",
        "df.head()"
      ]
    },
    {
      "cell_type": "code",
      "execution_count": null,
      "metadata": {
        "scrolled": false,
        "id": "Ba9GaWR4rb5z"
      },
      "outputs": [],
      "source": [
        "# check type of each Series (column)\n",
        "df.dtypes"
      ]
    },
    {
      "cell_type": "code",
      "execution_count": null,
      "metadata": {
        "id": "YsFrDKTxrb5z"
      },
      "outputs": [],
      "source": [
        "df['timestamp'] = pd.to_datetime( df['timestamp'])"
      ]
    },
    {
      "cell_type": "code",
      "execution_count": null,
      "metadata": {
        "id": "4bIc29BNrb50"
      },
      "outputs": [],
      "source": [
        "df.dtypes"
      ]
    },
    {
      "cell_type": "markdown",
      "metadata": {
        "id": "RRTtkdS3rb50"
      },
      "source": [
        "## Size\n",
        "\n",
        "As discussed previously, knowing and checking the size of your data helps you:\n",
        "- understand what information you have\n",
        "- know if it read into Python correctly\n",
        "- determine what analyses are appropriate"
      ]
    },
    {
      "cell_type": "code",
      "execution_count": null,
      "metadata": {
        "id": "eUYXqupUrb50"
      },
      "outputs": [],
      "source": [
        "# determine rows and columns in df\n",
        "df.shape"
      ]
    },
    {
      "cell_type": "markdown",
      "metadata": {
        "id": "sn6FBiRprb50"
      },
      "source": [
        "We now know that we have information about 85 students across 4 variables."
      ]
    },
    {
      "cell_type": "markdown",
      "metadata": {
        "id": "24vG7hY3rb50"
      },
      "source": [
        "## Missingness\n",
        "\n",
        "Data can be missing for all kinds of reasons. It's your job to determine if:\n",
        "- values are missing at random\n",
        "- values are missing due to data entry errors\n",
        "- values are missing due to faulty data collection\n",
        "\n"
      ]
    },
    {
      "cell_type": "code",
      "execution_count": null,
      "metadata": {
        "id": "rHQWPexZrb51"
      },
      "outputs": [],
      "source": [
        "df.isnull().all(axis=1)"
      ]
    },
    {
      "cell_type": "code",
      "execution_count": null,
      "metadata": {
        "id": "wqV-AJddrb51"
      },
      "outputs": [],
      "source": [
        "# True if row contains at least one null value\n",
        "# axis argument: 0 for reducing by ‘index’, 1 for reducing by ‘columns’,\n",
        "null_rows = df.isnull().any(axis='columns')\n",
        "df[null_rows].shape"
      ]
    },
    {
      "cell_type": "code",
      "execution_count": null,
      "metadata": {
        "id": "YvVXHHChrb51"
      },
      "outputs": [],
      "source": [
        "# columns with missing values\n",
        "df.columns[df.isnull().any(axis='rows')]"
      ]
    },
    {
      "cell_type": "code",
      "execution_count": null,
      "metadata": {
        "scrolled": false,
        "id": "0m7fsi2zrb52"
      },
      "outputs": [],
      "source": [
        "# number of missing values by column\n",
        "df.isnull().sum()"
      ]
    },
    {
      "cell_type": "markdown",
      "metadata": {
        "id": "jAEYcWg2rb52"
      },
      "source": [
        "## Cleaning: Hair Growth\n",
        "\n",
        "How fast does human hair grow (cm/yr)?"
      ]
    },
    {
      "cell_type": "code",
      "execution_count": null,
      "metadata": {
        "scrolled": true,
        "id": "GJFD92gFrb52"
      },
      "outputs": [],
      "source": [
        "# take a look at unique values\n",
        "df[\"hair_growth\"].unique()"
      ]
    },
    {
      "cell_type": "code",
      "execution_count": null,
      "metadata": {
        "id": "ApbBxhxWrb52"
      },
      "outputs": [],
      "source": [
        "# standardize height column\n",
        "def standardize_hair(string):\n",
        "    \n",
        "    # Basic string pre-processing\n",
        "    string = string.lower()\n",
        "    string = string.strip()    \n",
        "\n",
        "    # take care of inclded unit cases   \n",
        "    string = string.replace(\"cm a year\", \"\")\n",
        "    string = string.replace(\"cm/year\", \"\")\n",
        "    string = string.replace(\"cm/ye\", \"\")\n",
        "    string = string.replace(\"centimeters\", \"\")\n",
        "    string = string.replace(\"cm per year\", \"\")\n",
        "    string = string.replace(\"cm/yr\", \"\")\n",
        "    string = string.replace(\"cm/1yr\", \"\")\n",
        "    string = string.replace(\"cm/y\", \"\")\n",
        "    string = string.replace(\"cm/1 year\", \"\")\n",
        "    string = string.replace(\"year\", \"\")\n",
        "    string = string.replace(\"yr\", \"\")\n",
        "    string = string.replace(\"cm\", \"\")    \n",
        "    string = string.replace(\"/\", \"\")\n",
        "    string = string.replace(\",\", \"\")\n",
        "    string = string.replace(\"eh, I'm  bald\", \"\")\n",
        "    string = string.replace('cm approx.', \"\")\n",
        "    string = string.replace(\"cm/yr, cuz it grows 2cm in a month\", \"\")\n",
        "    string = string.replace(\"^2\", \"0\")\n",
        "    \n",
        "    string = string.strip()\n",
        "\n",
        "    # convert to numeric\n",
        "    try:\n",
        "        output = float(eval(string))\n",
        "    except:\n",
        "        output = np.nan\n",
        "    \n",
        "    return output"
      ]
    },
    {
      "cell_type": "code",
      "execution_count": null,
      "metadata": {
        "scrolled": false,
        "id": "0TUWLISMrb52"
      },
      "outputs": [],
      "source": [
        "# apply function across values in hair growth columns\n",
        "df[\"hair_growth\"] = df[\"hair_growth\"].apply(standardize_hair)\n",
        "df[\"hair_growth\"].unique()"
      ]
    },
    {
      "cell_type": "markdown",
      "metadata": {
        "id": "P7MRYm-_rb53"
      },
      "source": [
        "## Cleaning: Crammed\n",
        "\n",
        "If every living person stood crammed together side-by-side, how large of an area would they occupy (km²)?"
      ]
    },
    {
      "cell_type": "code",
      "execution_count": null,
      "metadata": {
        "scrolled": false,
        "id": "MrQrtHjSrb53"
      },
      "outputs": [],
      "source": [
        "df['crammed'].unique()"
      ]
    },
    {
      "cell_type": "code",
      "execution_count": null,
      "metadata": {
        "id": "scRyp8P6rb53"
      },
      "outputs": [],
      "source": [
        "# standardize crammed column\n",
        "def standardize_crammed(string):    \n",
        "    # Basic string pre-processing\n",
        "    string = string.lower()\n",
        "    string = string.strip()\n",
        "    \n",
        "    # take care of commas\n",
        "    string = string.replace(\",\", \"\")\n",
        "\n",
        "    # take care of specific cases\n",
        "    string = string.replace(\"texas?\", \"696200\")\n",
        "    string = string.replace(\"i'm bad at area lol\", \"NaN\")\n",
        "    string = string.replace(\"1.5 billion ft^2 to whatever that is in km^2\", \"139.35456\")\n",
        "    string = string.replace(\"the whole earth\",\"509600000\")\n",
        "    \n",
        "    # take care of inclded unit cases\n",
        "    string = string.replace(\"^2\", \"\")\n",
        "    string = string.replace(\"²\", \"\")\n",
        "    string = string.replace(\"km\", \"\")\n",
        "    \n",
        "    # take care of scientific notation / word cases\n",
        "    string = string.replace(\" million\", \"000000\")\n",
        "    string = string.replace(\" billion\", \"000000000\")\n",
        "\n",
        "    string = string.strip()\n",
        "\n",
        "\n",
        "    # convert to numeric\n",
        "    try:\n",
        "        output = float(eval(string))\n",
        "    except:\n",
        "        output = np.nan\n",
        "    \n",
        "    return output"
      ]
    },
    {
      "cell_type": "code",
      "execution_count": null,
      "metadata": {
        "scrolled": false,
        "id": "QZFtH75Orb53"
      },
      "outputs": [],
      "source": [
        "# apply function across values in crammed columns\n",
        "df[\"crammed\"] = df[\"crammed\"].apply(standardize_crammed)\n",
        "df[\"crammed\"].unique()"
      ]
    },
    {
      "cell_type": "markdown",
      "metadata": {
        "id": "h5g8swNgrb54"
      },
      "source": [
        "## Cleaning: San Diego to NYC\n",
        "\n",
        "How many days would it take to walk from here to New York City (assuming no stopping to fix shoes, apply sunscreen, or for sleeping, eating, or other biological needs)?"
      ]
    },
    {
      "cell_type": "code",
      "execution_count": null,
      "metadata": {
        "scrolled": false,
        "id": "a7481bwQrb54"
      },
      "outputs": [],
      "source": [
        "df['SAN_NYC'].unique()"
      ]
    },
    {
      "cell_type": "code",
      "execution_count": null,
      "metadata": {
        "id": "NaaYIth-rb54"
      },
      "outputs": [],
      "source": [
        "# standardize distance column\n",
        "def standardize_distance(string):\n",
        "    \n",
        "    orig = string\n",
        "    output = None\n",
        "    \n",
        "    \n",
        "    # Basic string pre-processing\n",
        "    string = string.lower()\n",
        "    string = string.strip()\n",
        "    \n",
        "    # take care of commas\n",
        "    string = string.replace(\",\", \"\")\n",
        "    \n",
        "    # remove units\n",
        "    string = string.replace(\"days\", \"\")\n",
        "    \n",
        "    # remove uncertainty\n",
        "    string = string.replace(\"?\", \"\")\n",
        "\n",
        "    # remove modifier\n",
        "    string = string.replace(\"over\", \"\")\n",
        "\n",
        "    # take care of non-days answers\n",
        "    string = string.replace(\"2 months\", \"60\")\n",
        "    string = string.replace(\"4 weeks\", \"30\")\n",
        "\n",
        "    # take care of scientific notation \n",
        "    string = string.replace(\"10^3\", \"10000\")\n",
        "    \n",
        "    string = string.strip()\n",
        "\n",
        "    # convert to numeric\n",
        "    output = float(string)\n",
        "    \n",
        "    return output"
      ]
    },
    {
      "cell_type": "code",
      "execution_count": null,
      "metadata": {
        "id": "37XW15Yurb54"
      },
      "outputs": [],
      "source": [
        "# alternate approach to the same task\n",
        "def dist_helper(distance):\n",
        "    if len(distance) == 1:\n",
        "        return distance[0]\n",
        "    if distance[1] == '*':\n",
        "        return str(float(distance[0]) * float(distance[2]))\n",
        "    if distance[1] == '/':\n",
        "        return str(float(distance[0]) / float(distance[2]))\n",
        "\n",
        "df[\"SAN_NYC_alt\"] = pd.to_numeric(df[\"SAN_NYC\"].\n",
        "                              str.lower().\n",
        "                              replace(\",\", \"\").\n",
        "                              replace({\"days?\":\"\", \n",
        "                                       \"\\^\":\"e\", \"^\\([\\w */)=?]+$\":\"1000\", \n",
        "                                       \" months?\":\" * 30\", \n",
        "                                       \" hours?\": \" / 24\", \n",
        "                                       \" years?\": \" * 365\"}, regex = True).\n",
        "                              str.strip().\n",
        "                              str.split(' ').\n",
        "                              apply(dist_helper), errors = 'coerce')\n"
      ]
    },
    {
      "cell_type": "markdown",
      "metadata": {
        "id": "ooWxdelirb54"
      },
      "source": [
        "# OOOPS!\n",
        "I left this as it was to correct a previous quarter's outputs.  We don't have the correct wrangling here for the current quarter.\n",
        "\n",
        "So let's leave this one as an exercise for YOU!  How do you want to handle wrangling this, dealing with all the possible issues, and making certain that each issue is handled!"
      ]
    },
    {
      "cell_type": "code",
      "execution_count": null,
      "metadata": {
        "id": "RzP-qV2qrb57"
      },
      "outputs": [],
      "source": [
        "# insert your code here!"
      ]
    },
    {
      "cell_type": "markdown",
      "metadata": {
        "id": "voygWLZ1rb57"
      },
      "source": [
        "## Shape\n",
        "\n",
        "The shape of your data dictates what analyses you can do. Today, we'll review a number of different distributions (shapes) data can take and examples of data that take that distribution."
      ]
    },
    {
      "cell_type": "markdown",
      "metadata": {
        "id": "CMy1c-5Nrb57"
      },
      "source": [
        "### Uniform Distribution\n",
        "\n",
        "<div class=\"alert alert-success\">\n",
        "The Uniform distribution has the property that every outcome has the equal probability of occurring. In other words, all outcomes are equally likely.\n",
        "</div>"
      ]
    },
    {
      "cell_type": "code",
      "execution_count": null,
      "metadata": {
        "scrolled": false,
        "id": "DzW07MBTrb57"
      },
      "outputs": [],
      "source": [
        "dat = uniform.rvs(size=10000)\n",
        "sns.histplot(dat, bins=20);"
      ]
    },
    {
      "cell_type": "markdown",
      "metadata": {
        "id": "mYYELnuRrb57"
      },
      "source": [
        "The **probability of rolling a given number on a fair die** is the same each time you roll the die - an example of a Uniform distribution."
      ]
    },
    {
      "cell_type": "markdown",
      "metadata": {
        "id": "sdbasOnPrb57"
      },
      "source": [
        "The **probability of pulling a spade out of a deck of cards** is the same each time you pull a card out of the deck."
      ]
    },
    {
      "cell_type": "markdown",
      "metadata": {
        "id": "SJzQKBmrrb57"
      },
      "source": [
        "The **probability of flipping a heads each time you flip a fair coin** is the same each time you flip the coin."
      ]
    },
    {
      "cell_type": "markdown",
      "metadata": {
        "id": "5rEDG75xrb57"
      },
      "source": [
        "### Normal Distribution\n",
        "\n",
        "<div class=\"alert alert-success\">\n",
        "The Normal (also Gaussian, or 'Bell Curve') distribution, is a distribution defined by its mean and standard deviation.\n",
        "</div>"
      ]
    },
    {
      "cell_type": "code",
      "execution_count": null,
      "metadata": {
        "scrolled": false,
        "id": "LArWHrDurb58"
      },
      "outputs": [],
      "source": [
        "# loc specifies mean\n",
        "# scale specifies the standard deviation\n",
        "dat = norm.rvs(loc=0, scale=1, size=10000)\n",
        "sns.histplot(dat, bins=20);"
      ]
    },
    {
      "cell_type": "markdown",
      "metadata": {
        "id": "Xlt6O0Bfrb58"
      },
      "source": [
        "With a standard Normal curve:\n",
        "- 68% of the values fall within one standard deviation [-1,1]\n",
        "- 95% of the values fall within two standard deviations [-2,2]"
      ]
    },
    {
      "cell_type": "markdown",
      "metadata": {
        "id": "k57PNPdMrb58"
      },
      "source": [
        "The **Normal distribution** is taught all over the place, and this is because it shows up all over the place. It's found in nature and across measurements we take all the time. It's also easy to understand and to work with statistically."
      ]
    },
    {
      "cell_type": "markdown",
      "metadata": {
        "id": "vKZv0fDcrb58"
      },
      "source": [
        "The **average height of players in the NBA** follows a Normal distribution, with the average height being 6'7\". "
      ]
    },
    {
      "cell_type": "markdown",
      "metadata": {
        "id": "XkdicWUJrb58"
      },
      "source": [
        "If you were to **flip a fair coin 16 times** and count the number of heads each time...and then repeat this 1000 times, recording the number of heads each time, this would follow a Normal distribution. 8 would be the most popular number of heads, but there would be a normal distribution centered on 8 for these data."
      ]
    },
    {
      "cell_type": "markdown",
      "metadata": {
        "id": "kP0_qTuhrb58"
      },
      "source": [
        "### Bimodal Distributions\n",
        "\n",
        "<div class=\"alert alert-success\">\n",
        "A Bimodal Distribution is a distribution with two peaks - it often indicates that you have information about two groups. \n",
        "</div>"
      ]
    },
    {
      "cell_type": "code",
      "execution_count": null,
      "metadata": {
        "id": "llaQU8_Frb58"
      },
      "outputs": [],
      "source": [
        "loc1, scale1, size1 = (90, 5, 175)\n",
        "loc2, scale2, size2 = (70, 5, 175)\n",
        "bi = np.concatenate([np.random.normal(loc=loc1, scale=scale1, size=size1), \n",
        "                     np.random.normal(loc=loc2, scale=scale2, size=size2)])\n",
        "sns.histplot(bi, bins=20);"
      ]
    },
    {
      "cell_type": "markdown",
      "metadata": {
        "id": "EGF8tOL-rb59"
      },
      "source": [
        "When **test scores in a class** are bimodal, often one peak describes those students who studied, while the other are those who didn't study or are struggling more with the course material."
      ]
    },
    {
      "cell_type": "markdown",
      "metadata": {
        "id": "8hdVYDxDrb59"
      },
      "source": [
        "Another example of a bimodal distribution are **the number of visitors at a restaurant over time**. Often restaurants will get a peak of visitors at lunchtime and dinnertime, with lulls in between."
      ]
    },
    {
      "cell_type": "markdown",
      "metadata": {
        "id": "Xaq4n5UUrb59"
      },
      "source": [
        "### Bernoulli Distribution\n",
        "\n",
        "<div class=\"alert alert-success\">\n",
        "A Bernouilli Distribution is a binary distribution - it takes only two values (0 or 1), with some probability $p$. \n",
        "</div>"
      ]
    },
    {
      "cell_type": "code",
      "execution_count": null,
      "metadata": {
        "scrolled": false,
        "id": "nx1dDSiprb59"
      },
      "outputs": [],
      "source": [
        "r = bernoulli.rvs(0.1 , size=10000)\n",
        "sns.countplot(r, color='#7995C3');"
      ]
    },
    {
      "cell_type": "markdown",
      "metadata": {
        "id": "uPiSN6X-rb59"
      },
      "source": [
        "Usually the value 1 indicates 'success' and 0 indicates 'failure'"
      ]
    },
    {
      "cell_type": "markdown",
      "metadata": {
        "id": "hxGocUQcrb59"
      },
      "source": [
        "Whether a **team will win a championship or not** follows a Bernoulli distribution - the team will either win (1 = success) or lose (0 = failure), and there is some probability ($p$) assigned to each of those values."
      ]
    },
    {
      "cell_type": "markdown",
      "metadata": {
        "id": "b8gSQpsorb59"
      },
      "source": [
        "Similarly, **whether you pass each exam at UCSD** follows a Bernoulli distribution - either you pass (1 = success) or you fail (0 = failure), and there is some probability assinged to each."
      ]
    },
    {
      "cell_type": "markdown",
      "metadata": {
        "id": "DfHA23Eyrb59"
      },
      "source": [
        "There are distributions that are built off of the Bernoulli Distribution, defined as follows:\n",
        "- **Binomial Distribution**: Number of success in $n$ trials\n",
        "- **Geometric Distribution**: Number of failures before the first success\n",
        "- **Negative Binomial Distribution**: Number of failures before the $x^{th}$ success"
      ]
    },
    {
      "cell_type": "markdown",
      "metadata": {
        "id": "RC6QlWhdrb5-"
      },
      "source": [
        "### Poisson Distribution\n",
        "\n",
        "<div class=\"alert alert-success\">\n",
        "The Poisson Distribution models events in fixed intervals of time, given a known average rate (and independent occurences).\n",
        "</div>"
      ]
    },
    {
      "cell_type": "code",
      "execution_count": null,
      "metadata": {
        "scrolled": false,
        "id": "7GMF6mTdrb5-"
      },
      "outputs": [],
      "source": [
        "dat = poisson.rvs(mu=1, size=100000)\n",
        "sns.histplot(dat);"
      ]
    },
    {
      "cell_type": "markdown",
      "metadata": {
        "id": "5xUe8F54rb5-"
      },
      "source": [
        "The **number of visitors a fast food drive-through gets each minute** follows a Poisson distribution. In this case, maybe the average is 3, but there's some variability around that number. \n",
        "\n",
        "A Poisson distribution can help calculate the probability of various events related to customers going through the drive-through at a restaurant. It will predict lulls (0 customers) and flurry of activity (5+ customers), allowing staff to plan and schedule more precisely."
      ]
    },
    {
      "cell_type": "markdown",
      "metadata": {
        "id": "5Nr0eLK3rb5-"
      },
      "source": [
        "https://forms.gle/S6TZ6sE2XVmGuymZ9\n",
        "\n",
        "<img src=\"https://raw.githubusercontent.com/COGS108/Lectures-Sp22/master/04_data/images/qr-code(16).png\" width=800>\n",
        "\n",
        "#### Clicker Question #2\n",
        "\n",
        "Which of the following would you expect to be **bimodal**?\n",
        "\n",
        "- A) heights from a random sample of females in the US\n",
        "- B) daily chance of winning the lottery\n",
        "- C) number of siblings everyone in this class has\n",
        "- D) distribution of speed limits in the US\n",
        "- E) ages of everyone in this class"
      ]
    },
    {
      "cell_type": "markdown",
      "metadata": {
        "id": "1jnepLJerb5-"
      },
      "source": [
        "#### Clicker Question #3\n",
        "\n",
        "The \"winning\" number in a lottery follows a...\n",
        "\n",
        "- A) Normal Distribution\n",
        "- B) Uniform Distribution\n",
        "- C) Skewed-right distribution\n",
        "- D) Bimodal Distribtuion\n",
        "- E) Bernoulli Distribution"
      ]
    },
    {
      "cell_type": "markdown",
      "metadata": {
        "id": "4fJTSdIIrb5-"
      },
      "source": [
        "#### Shape: Fermi Data"
      ]
    },
    {
      "cell_type": "code",
      "execution_count": null,
      "metadata": {
        "scrolled": false,
        "id": "r5N5i_8Brb5-"
      },
      "outputs": [],
      "source": [
        "sns.histplot(df['hair_growth'], kde=False, bins=20);"
      ]
    },
    {
      "cell_type": "code",
      "execution_count": null,
      "metadata": {
        "id": "dskNm6PErb5-"
      },
      "outputs": [],
      "source": [
        "sns.histplot(df['crammed'], kde=False, bins=200);"
      ]
    },
    {
      "cell_type": "code",
      "execution_count": null,
      "metadata": {
        "id": "1Rjg0BCrrb5-"
      },
      "outputs": [],
      "source": [
        "df.crammed"
      ]
    },
    {
      "cell_type": "code",
      "execution_count": null,
      "metadata": {
        "scrolled": false,
        "id": "VaZfIb8Vrb5_"
      },
      "outputs": [],
      "source": [
        "sns.histplot(df.query(\"SAN_NYC < 1000\")['SAN_NYC'], kde=False, bins=20);\n",
        "\n",
        "#.query(\"SAN_NYC < 10000\")"
      ]
    },
    {
      "cell_type": "markdown",
      "metadata": {
        "id": "dEzbWO-2rb5_"
      },
      "source": [
        "### Data Transformations"
      ]
    },
    {
      "cell_type": "markdown",
      "metadata": {
        "id": "vNuYzYGzrb5_"
      },
      "source": [
        "We haven't discussed skewed distributions yet; however, all three variables here are **skewed right**, meaning there is a tail off to the right and most values are found near the lower portion of the distribution.\n",
        "\n",
        "These sorts of distributions are hard to analyze because deviations from the norm are driving the variation in the distribution...even though they are few in number.\n",
        "\n",
        "Often, when you have skwewed data, you'll want to transform the variable."
      ]
    },
    {
      "cell_type": "code",
      "execution_count": null,
      "metadata": {
        "scrolled": false,
        "id": "CCwzDur6rb5_"
      },
      "outputs": [],
      "source": [
        "# log transformed data\n",
        "sns.histplot(np.log10(df['hair_growth'][df['hair_growth'].notnull()]), bins=10)\n",
        "plt.xlabel('Hair Growth');"
      ]
    },
    {
      "cell_type": "markdown",
      "metadata": {
        "id": "veV3jh2Orb5_"
      },
      "source": [
        "After transforming the data, the values appear approximately Normal. Those high values are no longer driving variation in the data. However, we're now on a log-scale, which sometimes makes interpretation a bit more difficult."
      ]
    },
    {
      "cell_type": "markdown",
      "metadata": {
        "id": "6kU-pYBarb5_"
      },
      "source": [
        "### Outliers\n",
        "\n",
        "Outliers are values that fall outside the typical range of your dataset. These can occur for all types of reasons:\n",
        "\n",
        "- data entry errors\n",
        "- poor sampling procedures\n",
        "- technical or mechanical errors\n",
        "- unexpected changes in weather\n",
        "- extreme values\n",
        "- people giving incorrect information\n",
        "- etc."
      ]
    },
    {
      "cell_type": "markdown",
      "metadata": {
        "id": "riRLCpuxrb5_"
      },
      "source": [
        "<div class=\"alert alert-danger\">\n",
        "Caution: Observations should only be removed from your dataset if you have a valid reason to do so. If you remove outliers from your dataset, your report should be <b>very</b> clear that you did so.\n",
        "</div>"
      ]
    },
    {
      "cell_type": "markdown",
      "metadata": {
        "id": "RYt2JPODrb5_"
      },
      "source": [
        "![outliers](https://raw.githubusercontent.com/COGS108/Lectures-Sp22/master/04_data/images/outliers.png)\n",
        "\n",
        "Link to Tweet: https://twitter.com/ChelseaParlett/status/1356285012375556109  \n",
        "Thread on possible approaches: https://twitter.com/IsabellaGhement/status/1356645319799308288"
      ]
    },
    {
      "cell_type": "markdown",
      "metadata": {
        "id": "jUSxSqvvrb5_"
      },
      "source": [
        "## Central Tendency\n",
        "\n",
        "- mean \n",
        "- median\n",
        "- mode\n",
        "\n",
        "The Central Tendency tells you the 'typical' value for an observation in your dataset."
      ]
    },
    {
      "cell_type": "markdown",
      "metadata": {
        "id": "cyIHLnpnrb6A"
      },
      "source": [
        "### Mean"
      ]
    },
    {
      "cell_type": "markdown",
      "metadata": {
        "id": "RmKS9xADrb6A"
      },
      "source": [
        "\n",
        "$$ \\bar x = \\frac{\\sum\\limits_{i = 1}^N x_i}N  $$\n"
      ]
    },
    {
      "cell_type": "markdown",
      "metadata": {
        "id": "dGUZy5sMrb6A"
      },
      "source": [
        "- $x_i$ = ith element of the sample\n",
        "- $\\bar x$ = sample mean\n",
        "- $N$ = sample size\n"
      ]
    },
    {
      "cell_type": "code",
      "execution_count": null,
      "metadata": {
        "id": "8dTXaqbHrb6A"
      },
      "outputs": [],
      "source": [
        "# to calculate mean\n",
        "sum(df['hair_growth'])/len(df)"
      ]
    },
    {
      "cell_type": "code",
      "execution_count": null,
      "metadata": {
        "id": "iniJa32zrb6A"
      },
      "outputs": [],
      "source": [
        "df['hair_growth'].mean()"
      ]
    },
    {
      "cell_type": "code",
      "execution_count": null,
      "metadata": {
        "id": "wMAFAKkSrb6A"
      },
      "outputs": [],
      "source": [
        "# check mean for each column\n",
        "df.mean()"
      ]
    },
    {
      "cell_type": "markdown",
      "metadata": {
        "id": "-cX2g83arb6A"
      },
      "source": [
        "### Median"
      ]
    },
    {
      "cell_type": "code",
      "execution_count": null,
      "metadata": {
        "id": "ePWKZOXorb6A"
      },
      "outputs": [],
      "source": [
        "# check median for each column\n",
        "df.median()"
      ]
    },
    {
      "cell_type": "markdown",
      "metadata": {
        "id": "djxa-uMTrb6A"
      },
      "source": [
        "### Median vs. Mean\n",
        "\n",
        "When the median and mean are not similar to one another...what's the best approach?"
      ]
    },
    {
      "cell_type": "code",
      "execution_count": null,
      "metadata": {
        "scrolled": false,
        "id": "Uv-xp2bdrb6A"
      },
      "outputs": [],
      "source": [
        "# relook at the distribution for bodywt\n",
        "sns.histplot(df['hair_growth'], bins=10);"
      ]
    },
    {
      "cell_type": "code",
      "execution_count": null,
      "metadata": {
        "scrolled": true,
        "id": "QNn8FHpIrb6B"
      },
      "outputs": [],
      "source": [
        "# median and mean for same series\n",
        "print( 'median: ', df['hair_growth'].median())\n",
        "print( 'mean: ', df['hair_growth'].mean())"
      ]
    },
    {
      "cell_type": "code",
      "execution_count": null,
      "metadata": {
        "scrolled": false,
        "id": "yvjivvlwrb6B"
      },
      "outputs": [],
      "source": [
        "# take a look at it all together\n",
        "ax = sns.histplot(df['hair_growth'], bins=10);\n",
        "ax.axvline(df['hair_growth'].mean(), color='darkred', linestyle='--', label='mean');\n",
        "ax.axvline(df['hair_growth'].median(), color='#2e2e2e', linestyle='--', label='median')\n",
        "ax.legend();"
      ]
    },
    {
      "cell_type": "markdown",
      "metadata": {
        "id": "rKXFxGmTrb6B"
      },
      "source": [
        "#### Clicker Question #4\n",
        "\n",
        "Which of the following is the best way to measure the central tendency of `hair_growth` in these data?\n",
        "\n",
        "- A) mean\n",
        "- B) median\n",
        "- C) mode"
      ]
    },
    {
      "cell_type": "code",
      "execution_count": null,
      "metadata": {
        "scrolled": false,
        "id": "A9zw18Bgrb6B"
      },
      "outputs": [],
      "source": [
        "# increase the number of bins here\n",
        "ax = sns.histplot(df['hair_growth'], bins=100);\n",
        "ax.axvline(df['hair_growth'].mean(), color='darkred', linestyle='--', label='mean');\n",
        "ax.axvline(df['hair_growth'].median(), color='#2e2e2e', linestyle='--', label='median')\n",
        "ax.legend();"
      ]
    },
    {
      "cell_type": "markdown",
      "metadata": {
        "id": "stqFhCjTrb6B"
      },
      "source": [
        "#### How did y'all do?"
      ]
    },
    {
      "cell_type": "code",
      "execution_count": null,
      "metadata": {
        "scrolled": true,
        "id": "wtPY4mRarb6B"
      },
      "outputs": [],
      "source": [
        "# compare to actual value: 15 cm/year (~6 in)\n",
        "df[\"hair_growth\"].median()"
      ]
    },
    {
      "cell_type": "code",
      "execution_count": null,
      "metadata": {
        "id": "Vppree4krb6B"
      },
      "outputs": [],
      "source": [
        "# compare to actual value: 1,000-10,000 km^2)\n",
        "df['crammed'].median()"
      ]
    },
    {
      "cell_type": "code",
      "execution_count": null,
      "metadata": {
        "scrolled": true,
        "id": "0V1x8CnXrb6C"
      },
      "outputs": [],
      "source": [
        "# compare to actual value: 38 days)\n",
        "df['SAN_NYC'].median()"
      ]
    },
    {
      "cell_type": "markdown",
      "metadata": {
        "id": "kRV_O0NNrb6C"
      },
      "source": [
        "Calculating the mean and median of your sample is helpful when dealing with **quantitative variables**.\n",
        "\n",
        "When working with **categorical variables**, knowing the mode is helpful."
      ]
    },
    {
      "cell_type": "markdown",
      "metadata": {
        "id": "fONKygOKrb6C"
      },
      "source": [
        "### Mode\n",
        "\n",
        "When working with categorical data, the mode is the most common value in the dataset."
      ]
    },
    {
      "cell_type": "markdown",
      "metadata": {
        "id": "fYkBNcw-rb6C"
      },
      "source": [
        "## Variability\n",
        "\n",
        "- Range\n",
        "- IQR\n",
        "- Variance & Standard Deviation"
      ]
    },
    {
      "cell_type": "markdown",
      "metadata": {
        "id": "bJ5Ey1Bwrb6C"
      },
      "source": [
        "### Range\n",
        "\n",
        "The highest value minus the lowest value."
      ]
    },
    {
      "cell_type": "code",
      "execution_count": null,
      "metadata": {
        "id": "0BlKXrQjrb6C",
        "outputId": "9c4e90d3-db7d-470c-d560-afde724f5c62",
        "colab": {
          "base_uri": "https://localhost:8080/",
          "height": 585
        }
      },
      "outputs": [
        {
          "output_type": "error",
          "ename": "KeyError",
          "evalue": "ignored",
          "traceback": [
            "\u001b[0;31m---------------------------------------------------------------------------\u001b[0m",
            "\u001b[0;31mKeyError\u001b[0m                                  Traceback (most recent call last)",
            "\u001b[0;32m/usr/local/lib/python3.7/dist-packages/pandas/core/indexes/base.py\u001b[0m in \u001b[0;36mget_loc\u001b[0;34m(self, key, method, tolerance)\u001b[0m\n\u001b[1;32m   3360\u001b[0m             \u001b[0;32mtry\u001b[0m\u001b[0;34m:\u001b[0m\u001b[0;34m\u001b[0m\u001b[0;34m\u001b[0m\u001b[0m\n\u001b[0;32m-> 3361\u001b[0;31m                 \u001b[0;32mreturn\u001b[0m \u001b[0mself\u001b[0m\u001b[0;34m.\u001b[0m\u001b[0m_engine\u001b[0m\u001b[0;34m.\u001b[0m\u001b[0mget_loc\u001b[0m\u001b[0;34m(\u001b[0m\u001b[0mcasted_key\u001b[0m\u001b[0;34m)\u001b[0m\u001b[0;34m\u001b[0m\u001b[0;34m\u001b[0m\u001b[0m\n\u001b[0m\u001b[1;32m   3362\u001b[0m             \u001b[0;32mexcept\u001b[0m \u001b[0mKeyError\u001b[0m \u001b[0;32mas\u001b[0m \u001b[0merr\u001b[0m\u001b[0;34m:\u001b[0m\u001b[0;34m\u001b[0m\u001b[0;34m\u001b[0m\u001b[0m\n",
            "\u001b[0;32m/usr/local/lib/python3.7/dist-packages/pandas/_libs/index.pyx\u001b[0m in \u001b[0;36mpandas._libs.index.IndexEngine.get_loc\u001b[0;34m()\u001b[0m\n",
            "\u001b[0;32m/usr/local/lib/python3.7/dist-packages/pandas/_libs/index.pyx\u001b[0m in \u001b[0;36mpandas._libs.index.IndexEngine.get_loc\u001b[0;34m()\u001b[0m\n",
            "\u001b[0;32mpandas/_libs/hashtable_class_helper.pxi\u001b[0m in \u001b[0;36mpandas._libs.hashtable.PyObjectHashTable.get_item\u001b[0;34m()\u001b[0m\n",
            "\u001b[0;32mpandas/_libs/hashtable_class_helper.pxi\u001b[0m in \u001b[0;36mpandas._libs.hashtable.PyObjectHashTable.get_item\u001b[0;34m()\u001b[0m\n",
            "\u001b[0;31mKeyError\u001b[0m: 'hair_growth'",
            "\nThe above exception was the direct cause of the following exception:\n",
            "\u001b[0;31mKeyError\u001b[0m                                  Traceback (most recent call last)",
            "\u001b[0;32m<ipython-input-6-a54e3a85b6d5>\u001b[0m in \u001b[0;36m<module>\u001b[0;34m()\u001b[0m\n\u001b[1;32m      1\u001b[0m \u001b[0;31m# determine the 25th and 75th percentiles\u001b[0m\u001b[0;34m\u001b[0m\u001b[0;34m\u001b[0m\u001b[0;34m\u001b[0m\u001b[0m\n\u001b[0;32m----> 2\u001b[0;31m \u001b[0mmin_val\u001b[0m \u001b[0;34m=\u001b[0m \u001b[0mdf\u001b[0m\u001b[0;34m[\u001b[0m\u001b[0;34m'hair_growth'\u001b[0m\u001b[0;34m]\u001b[0m\u001b[0;34m.\u001b[0m\u001b[0mmin\u001b[0m\u001b[0;34m(\u001b[0m\u001b[0;34m)\u001b[0m\u001b[0;34m\u001b[0m\u001b[0;34m\u001b[0m\u001b[0m\n\u001b[0m\u001b[1;32m      3\u001b[0m \u001b[0mmax_val\u001b[0m \u001b[0;34m=\u001b[0m \u001b[0mdf\u001b[0m\u001b[0;34m[\u001b[0m\u001b[0;34m'hair_growth'\u001b[0m\u001b[0;34m]\u001b[0m\u001b[0;34m.\u001b[0m\u001b[0mmax\u001b[0m\u001b[0;34m(\u001b[0m\u001b[0;34m)\u001b[0m\u001b[0;34m\u001b[0m\u001b[0;34m\u001b[0m\u001b[0m\n\u001b[1;32m      4\u001b[0m \u001b[0mrange_vals\u001b[0m \u001b[0;34m=\u001b[0m  \u001b[0mmax_val\u001b[0m \u001b[0;34m-\u001b[0m \u001b[0mmin_val\u001b[0m\u001b[0;34m\u001b[0m\u001b[0;34m\u001b[0m\u001b[0m\n\u001b[1;32m      5\u001b[0m \u001b[0mprint\u001b[0m\u001b[0;34m(\u001b[0m\u001b[0mmax_val\u001b[0m\u001b[0;34m,\u001b[0m \u001b[0;34m'-'\u001b[0m \u001b[0;34m,\u001b[0m \u001b[0mmin_val\u001b[0m\u001b[0;34m,\u001b[0m\u001b[0;34m' = '\u001b[0m\u001b[0;34m,\u001b[0m  \u001b[0mrange_vals\u001b[0m\u001b[0;34m)\u001b[0m\u001b[0;34m\u001b[0m\u001b[0;34m\u001b[0m\u001b[0m\n",
            "\u001b[0;32m/usr/local/lib/python3.7/dist-packages/pandas/core/frame.py\u001b[0m in \u001b[0;36m__getitem__\u001b[0;34m(self, key)\u001b[0m\n\u001b[1;32m   3456\u001b[0m             \u001b[0;32mif\u001b[0m \u001b[0mself\u001b[0m\u001b[0;34m.\u001b[0m\u001b[0mcolumns\u001b[0m\u001b[0;34m.\u001b[0m\u001b[0mnlevels\u001b[0m \u001b[0;34m>\u001b[0m \u001b[0;36m1\u001b[0m\u001b[0;34m:\u001b[0m\u001b[0;34m\u001b[0m\u001b[0;34m\u001b[0m\u001b[0m\n\u001b[1;32m   3457\u001b[0m                 \u001b[0;32mreturn\u001b[0m \u001b[0mself\u001b[0m\u001b[0;34m.\u001b[0m\u001b[0m_getitem_multilevel\u001b[0m\u001b[0;34m(\u001b[0m\u001b[0mkey\u001b[0m\u001b[0;34m)\u001b[0m\u001b[0;34m\u001b[0m\u001b[0;34m\u001b[0m\u001b[0m\n\u001b[0;32m-> 3458\u001b[0;31m             \u001b[0mindexer\u001b[0m \u001b[0;34m=\u001b[0m \u001b[0mself\u001b[0m\u001b[0;34m.\u001b[0m\u001b[0mcolumns\u001b[0m\u001b[0;34m.\u001b[0m\u001b[0mget_loc\u001b[0m\u001b[0;34m(\u001b[0m\u001b[0mkey\u001b[0m\u001b[0;34m)\u001b[0m\u001b[0;34m\u001b[0m\u001b[0;34m\u001b[0m\u001b[0m\n\u001b[0m\u001b[1;32m   3459\u001b[0m             \u001b[0;32mif\u001b[0m \u001b[0mis_integer\u001b[0m\u001b[0;34m(\u001b[0m\u001b[0mindexer\u001b[0m\u001b[0;34m)\u001b[0m\u001b[0;34m:\u001b[0m\u001b[0;34m\u001b[0m\u001b[0;34m\u001b[0m\u001b[0m\n\u001b[1;32m   3460\u001b[0m                 \u001b[0mindexer\u001b[0m \u001b[0;34m=\u001b[0m \u001b[0;34m[\u001b[0m\u001b[0mindexer\u001b[0m\u001b[0;34m]\u001b[0m\u001b[0;34m\u001b[0m\u001b[0;34m\u001b[0m\u001b[0m\n",
            "\u001b[0;32m/usr/local/lib/python3.7/dist-packages/pandas/core/indexes/base.py\u001b[0m in \u001b[0;36mget_loc\u001b[0;34m(self, key, method, tolerance)\u001b[0m\n\u001b[1;32m   3361\u001b[0m                 \u001b[0;32mreturn\u001b[0m \u001b[0mself\u001b[0m\u001b[0;34m.\u001b[0m\u001b[0m_engine\u001b[0m\u001b[0;34m.\u001b[0m\u001b[0mget_loc\u001b[0m\u001b[0;34m(\u001b[0m\u001b[0mcasted_key\u001b[0m\u001b[0;34m)\u001b[0m\u001b[0;34m\u001b[0m\u001b[0;34m\u001b[0m\u001b[0m\n\u001b[1;32m   3362\u001b[0m             \u001b[0;32mexcept\u001b[0m \u001b[0mKeyError\u001b[0m \u001b[0;32mas\u001b[0m \u001b[0merr\u001b[0m\u001b[0;34m:\u001b[0m\u001b[0;34m\u001b[0m\u001b[0;34m\u001b[0m\u001b[0m\n\u001b[0;32m-> 3363\u001b[0;31m                 \u001b[0;32mraise\u001b[0m \u001b[0mKeyError\u001b[0m\u001b[0;34m(\u001b[0m\u001b[0mkey\u001b[0m\u001b[0;34m)\u001b[0m \u001b[0;32mfrom\u001b[0m \u001b[0merr\u001b[0m\u001b[0;34m\u001b[0m\u001b[0;34m\u001b[0m\u001b[0m\n\u001b[0m\u001b[1;32m   3364\u001b[0m \u001b[0;34m\u001b[0m\u001b[0m\n\u001b[1;32m   3365\u001b[0m         \u001b[0;32mif\u001b[0m \u001b[0mis_scalar\u001b[0m\u001b[0;34m(\u001b[0m\u001b[0mkey\u001b[0m\u001b[0;34m)\u001b[0m \u001b[0;32mand\u001b[0m \u001b[0misna\u001b[0m\u001b[0;34m(\u001b[0m\u001b[0mkey\u001b[0m\u001b[0;34m)\u001b[0m \u001b[0;32mand\u001b[0m \u001b[0;32mnot\u001b[0m \u001b[0mself\u001b[0m\u001b[0;34m.\u001b[0m\u001b[0mhasnans\u001b[0m\u001b[0;34m:\u001b[0m\u001b[0;34m\u001b[0m\u001b[0;34m\u001b[0m\u001b[0m\n",
            "\u001b[0;31mKeyError\u001b[0m: 'hair_growth'"
          ]
        }
      ],
      "source": [
        "# determine the 25th and 75th percentiles\n",
        "min_val = df['hair_growth'].min()\n",
        "max_val = df['hair_growth'].max()\n",
        "range_vals =  max_val - min_val\n",
        "print(max_val, '-' , min_val,' = ',  range_vals)"
      ]
    },
    {
      "cell_type": "markdown",
      "metadata": {
        "id": "dQ9cJ_vprb6C"
      },
      "source": [
        "### IQR (Interquartile Range)\n",
        "\n",
        "75th percentile - 25th percentile"
      ]
    },
    {
      "cell_type": "code",
      "execution_count": null,
      "metadata": {
        "scrolled": true,
        "id": "xTiaTKMCrb6C"
      },
      "outputs": [],
      "source": [
        "# determine the 25th and 75th percentiles\n",
        "lower, upper = np.percentile(df['hair_growth'], [25, 75])\n",
        "lower, upper"
      ]
    },
    {
      "cell_type": "code",
      "execution_count": null,
      "metadata": {
        "id": "FFWDFcsLrb6D"
      },
      "outputs": [],
      "source": [
        "# calculate IQR\n",
        "iqr = upper - lower\n",
        "iqr"
      ]
    },
    {
      "cell_type": "code",
      "execution_count": null,
      "metadata": {
        "id": "Jv4QWkkWrb6D"
      },
      "outputs": [],
      "source": [
        "df['hair_growth'].quantile([0.25,0.75])"
      ]
    },
    {
      "cell_type": "code",
      "execution_count": null,
      "metadata": {
        "id": "QucV8Grmrb6D"
      },
      "outputs": [],
      "source": [
        "# visualizing IQR\n",
        "sns.boxplot(x='hair_growth', data=df);"
      ]
    },
    {
      "cell_type": "markdown",
      "metadata": {
        "id": "I5xC47iMrb6D"
      },
      "source": [
        "### Variance & Standard Deviation\n",
        "\n",
        "- variance\n",
        "    - measures how close the values in the distribution are to the middle of the distribution\n",
        "    - average squared difference of the scores from  the mean\n",
        "- standard deviation\n",
        "    - square root of the variance"
      ]
    },
    {
      "cell_type": "markdown",
      "metadata": {
        "id": "ygpKVij7rb6D"
      },
      "source": [
        "#### Variance"
      ]
    },
    {
      "cell_type": "markdown",
      "metadata": {
        "id": "8M-2o8Gjrb6D"
      },
      "source": [
        "$$ s^2 = \\frac {\\sum\\limits_{i = 1}^N {\\left( {x_i - \\bar x} \\right)^2 }} {(N-1)} $$"
      ]
    },
    {
      "cell_type": "markdown",
      "metadata": {
        "id": "ckKnOWYUrb6D"
      },
      "source": [
        "- $s^2$ = sample variance\n",
        "- $x_i$ = ith element of the sample\n",
        "- $\\bar x$ = mean of the sample\n",
        "- $N$ = sample size\n"
      ]
    },
    {
      "cell_type": "code",
      "execution_count": null,
      "metadata": {
        "id": "KS856Xf3rb6D"
      },
      "outputs": [],
      "source": [
        "# the math behind sample variance\n",
        "var = sum((df['hair_growth'] - df['hair_growth'].mean()) ** 2 )/(len(df) - 1) \n",
        "var"
      ]
    },
    {
      "cell_type": "code",
      "execution_count": null,
      "metadata": {
        "id": "mx1WUHYGrb6D"
      },
      "outputs": [],
      "source": [
        "# calculate variance using pandas\n",
        "var = df['hair_growth'].var()\n",
        "var"
      ]
    },
    {
      "cell_type": "markdown",
      "metadata": {
        "id": "TK2EyASOrb6E"
      },
      "source": [
        "#### Standard Deviation\n",
        "square root of the variance"
      ]
    },
    {
      "cell_type": "markdown",
      "metadata": {
        "id": "w3SQ6gjmrb6E"
      },
      "source": [
        "$$ s = \\sqrt {\\frac {\\sum\\limits_{i = 1}^N {\\left( {x_i - \\bar x} \\right)^2 }} {(N-1)}} $$"
      ]
    },
    {
      "cell_type": "code",
      "execution_count": null,
      "metadata": {
        "scrolled": true,
        "id": "hbt3fT32rb6E"
      },
      "outputs": [],
      "source": [
        "np.sqrt(var)"
      ]
    },
    {
      "cell_type": "code",
      "execution_count": null,
      "metadata": {
        "scrolled": true,
        "id": "axhgGs2-rb6E"
      },
      "outputs": [],
      "source": [
        "# calculate variance using pandas\n",
        "sd = df['hair_growth'].std()\n",
        "sd "
      ]
    },
    {
      "cell_type": "markdown",
      "metadata": {
        "id": "uKI7F35urb6E"
      },
      "source": [
        "## Descriptive Tables"
      ]
    },
    {
      "cell_type": "markdown",
      "metadata": {
        "id": "xCyNPlvqrb6E"
      },
      "source": [
        "![descriptive table](https://raw.githubusercontent.com/COGS108/Lectures-Sp22/master/04_data/images/descriptive.png)"
      ]
    },
    {
      "cell_type": "markdown",
      "metadata": {
        "id": "1sqqqFKErb6E"
      },
      "source": [
        "### Why Central Tendency Doesn't Tell the Whole Story"
      ]
    },
    {
      "cell_type": "code",
      "execution_count": null,
      "metadata": {
        "id": "J4dv5sjxrb6E"
      },
      "outputs": [],
      "source": [
        "# generate two different normal distributions\n",
        "dist_1 = np.random.normal(5, 2, 1000)\n",
        "dist_2 = np.random.normal(5, 10, 1000)"
      ]
    },
    {
      "cell_type": "code",
      "execution_count": null,
      "metadata": {
        "scrolled": false,
        "id": "tGTD1xivrb6F"
      },
      "outputs": [],
      "source": [
        "# plot distributions side by side\n",
        "sns.kdeplot(dist_1, label=\"mean: 5, sd: 2\")\n",
        "sns.kdeplot(dist_2, label=\"mean: 5, sd: 10\")\n",
        "plt.legend();"
      ]
    },
    {
      "cell_type": "markdown",
      "metadata": {
        "id": "WqaMtU6drb6F"
      },
      "source": [
        "## Anscombe's Quartet: A Cautionary Tale"
      ]
    },
    {
      "cell_type": "markdown",
      "metadata": {
        "id": "Vu0f3a_hrb6F"
      },
      "source": [
        "Code in this example taken from [here](https://matplotlib.org/gallery/specialty_plots/anscombe.html)."
      ]
    },
    {
      "cell_type": "code",
      "execution_count": null,
      "metadata": {
        "id": "2fbKEeTvrb6F"
      },
      "outputs": [],
      "source": [
        "x = np.array([10, 8, 13, 9, 11, 14, 6, 4, 12, 7, 5])\n",
        "y1 = np.array([8.04, 6.95, 7.58, 8.81, 8.33, 9.96, 7.24, 4.26, 10.84, 4.82, 5.68])\n",
        "y2 = np.array([9.14, 8.14, 8.74, 8.77, 9.26, 8.10, 6.13, 3.10, 9.13, 7.26, 4.74])\n",
        "y3 = np.array([7.46, 6.77, 12.74, 7.11, 7.81, 8.84, 6.08, 5.39, 8.15, 6.42, 5.73])\n",
        "x4 = np.array([8, 8, 8, 8, 8, 8, 8, 19, 8, 8, 8])\n",
        "y4 = np.array([6.58, 5.76, 7.71, 8.84, 8.47, 7.04, 5.25, 12.50, 5.56, 7.91, 6.89])"
      ]
    },
    {
      "cell_type": "code",
      "execution_count": null,
      "metadata": {
        "scrolled": false,
        "id": "gB44qTZ5rb6F"
      },
      "outputs": [],
      "source": [
        "def fit(x):\n",
        "    return 3 + 0.5 * x\n",
        "\n",
        "xfit = np.array([np.min(x), np.max(x)])\n",
        "\n",
        "plt.subplot(221)\n",
        "plt.plot(x, y1, 'ks', xfit, fit(xfit), 'r-', lw=2)\n",
        "plt.axis([2, 20, 2, 14])\n",
        "plt.setp(plt.gca(), xticklabels=[], yticks=(4, 8, 12), xticks=(0, 10, 20))\n",
        "plt.text(3, 12, 'I', fontsize=20)\n",
        "\n",
        "plt.subplot(222)\n",
        "plt.plot(x, y2, 'ks', xfit, fit(xfit), 'r-', lw=2)\n",
        "plt.axis([2, 20, 2, 14])\n",
        "plt.setp(plt.gca(), xticks=(0, 10, 20), xticklabels=[],\n",
        "         yticks=(4, 8, 12), yticklabels=[], )\n",
        "plt.text(3, 12, 'II', fontsize=20)\n",
        "\n",
        "plt.subplot(223)\n",
        "plt.plot(x, y3, 'ks', xfit, fit(xfit), 'r-', lw=2)\n",
        "plt.axis([2, 20, 2, 14])\n",
        "plt.text(3, 12, 'III', fontsize=20)\n",
        "plt.setp(plt.gca(), yticks=(4, 8, 12), xticks=(0, 10, 20))\n",
        "\n",
        "plt.subplot(224)\n",
        "xfit = np.array([np.min(x4), np.max(x4)])\n",
        "plt.plot(x4, y4, 'ks', xfit, fit(xfit), 'r-', lw=2)\n",
        "plt.axis([2, 20, 2, 14])\n",
        "plt.setp(plt.gca(), yticklabels=[], yticks=(4, 8, 12), xticks=(0, 10, 20))\n",
        "plt.text(3, 12, 'IV', fontsize=20)\n",
        "\n",
        "# verify the stats\n",
        "pairs = (x, y1), (x, y2), (x, y3), (x4, y4)\n",
        "for x, y in pairs:\n",
        "    print('mean=%1.2f, std=%1.2f, r=%1.2f' % (np.mean(y), np.std(y),\n",
        "          np.corrcoef(x, y)[0][1]))\n",
        "\n",
        "plt.show()"
      ]
    },
    {
      "cell_type": "markdown",
      "metadata": {
        "id": "cEynm6uvrb6F"
      },
      "source": [
        "### Draw the Graph (What EDA is all about!)"
      ]
    }
  ],
  "metadata": {
    "celltoolbar": "Slideshow",
    "kernelspec": {
      "display_name": "Python 3",
      "language": "python",
      "name": "python3"
    },
    "language_info": {
      "codemirror_mode": {
        "name": "ipython",
        "version": 3
      },
      "file_extension": ".py",
      "mimetype": "text/x-python",
      "name": "python",
      "nbconvert_exporter": "python",
      "pygments_lexer": "ipython3",
      "version": "3.8.8"
    },
    "rise": {
      "scroll": true
    },
    "colab": {
      "name": "Copy of 04_02_descriptive.ipynb",
      "provenance": [],
      "include_colab_link": true
    }
  },
  "nbformat": 4,
  "nbformat_minor": 0
}